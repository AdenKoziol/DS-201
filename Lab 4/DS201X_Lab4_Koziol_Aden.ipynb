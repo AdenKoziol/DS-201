{
 "cells": [
  {
   "cell_type": "code",
   "execution_count": 18,
   "id": "2d047125",
   "metadata": {},
   "outputs": [
    {
     "name": "stdout",
     "output_type": "stream",
     "text": [
      "What is your final point?: 90\n",
      "Your points: 90.0 Your letter grade: B\n",
      "Do you have more student's Final points? Yes\n",
      "What is your final point?: 80\n",
      "Your points: 80.0 Your letter grade: C\n",
      "Do you have more student's Final points? No\n",
      "Grade report complete! Your final score is: C\n"
     ]
    }
   ],
   "source": [
    "def Letter_grade(final_points):\n",
    "    if final_points >= 92.5:\n",
    "        print(\"Your points:\", final_points, \"Your letter grade: A, good job!\")\n",
    "    elif final_points >= 82.5:\n",
    "        print(\"Your points:\", final_points, \"Your letter grade: B\")\n",
    "    elif final_points >= 72.5:\n",
    "        print(\"Your points:\", final_points, \"Your letter grade: C\")\n",
    "    elif final_points >= 62.5:\n",
    "        print(\"Your points:\", final_points, \"Your letter grade: D\")\n",
    "    else:\n",
    "        print(\"Your points:\", final_points, \"Your letter grade: F, Sorry you fail\")\n",
    "    \n",
    "        \n",
    "keepGoing = \"Yes\"\n",
    "\n",
    "while(keepGoing == \"Yes\" or keepGoing == \"yes\" or keepGoing == \"Y\" or keepGoing == \"y\" or keepGoing == \"I do\"):\n",
    "    grade = float(input(\"What is your final point?: \"))\n",
    "    Letter_grade(grade)\n",
    "    keepGoing = input(\"Do you have more student's Final points? \")\n",
    "    \n",
    "if grade >= 92.5:\n",
    "    grade = \"A\"\n",
    "elif grade >= 82.5:\n",
    "    grade = \"B\"\n",
    "elif grade >= 72.5:\n",
    "    grade = \"C\"\n",
    "elif grade >= 62.5:\n",
    "    grade = \"D\"\n",
    "else:\n",
    "    grade = \"F\"\n",
    "    \n",
    "print(\"Grade report complete! Your final score is:\", grade)"
   ]
  },
  {
   "cell_type": "code",
   "execution_count": null,
   "id": "c7ecddba",
   "metadata": {},
   "outputs": [],
   "source": []
  },
  {
   "cell_type": "code",
   "execution_count": null,
   "id": "2fdea043",
   "metadata": {},
   "outputs": [],
   "source": []
  }
 ],
 "metadata": {
  "kernelspec": {
   "display_name": "Python 3 (ipykernel)",
   "language": "python",
   "name": "python3"
  },
  "language_info": {
   "codemirror_mode": {
    "name": "ipython",
    "version": 3
   },
   "file_extension": ".py",
   "mimetype": "text/x-python",
   "name": "python",
   "nbconvert_exporter": "python",
   "pygments_lexer": "ipython3",
   "version": "3.11.5"
  }
 },
 "nbformat": 4,
 "nbformat_minor": 5
}
