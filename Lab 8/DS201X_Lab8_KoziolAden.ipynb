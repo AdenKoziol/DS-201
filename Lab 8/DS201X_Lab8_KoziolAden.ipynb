{
 "cells": [
  {
   "cell_type": "code",
   "execution_count": 20,
   "id": "45b560da",
   "metadata": {},
   "outputs": [
    {
     "name": "stderr",
     "output_type": "stream",
     "text": [
      "BokehDeprecationWarning: CDSView.source is no longer needed, and is now ignored. In a future release, passing source will result an error.\n",
      "BokehDeprecationWarning: CDSView.filters was deprecated in bokeh 3.0. Use CDSView.filter instead.\n",
      "BokehDeprecationWarning: CDSView.source is no longer needed, and is now ignored. In a future release, passing source will result an error.\n",
      "BokehDeprecationWarning: CDSView.filters was deprecated in bokeh 3.0. Use CDSView.filter instead.\n"
     ]
    }
   ],
   "source": [
    "import numpy as np\n",
    "import pandas as pd\n",
    "\n",
    "# Step 1\n",
    "lemon = pd.read_csv('https://raw.githubusercontent.com/asukul/DS201/master/datasets/Lemonade_Lab8.csv')\n",
    "\n",
    "# Step 2\n",
    "lemon.isnull().any()\n",
    "lemon.duplicated().any()\n",
    "\n",
    "# Step 4\n",
    "from bokeh.models import ColumnDataSource\n",
    "source_Q4 = ColumnDataSource(lemon)\n",
    "from bokeh.io import output_notebook, show\n",
    "from bokeh.plotting import figure\n",
    "p = figure(title='Lemon and Orange Sales by Temperature')\n",
    "p.circle(x=\"Temperature\", y=\"Lemon\", source=source_Q4, color='green', size=8, legend_label=\"Lemon\")\n",
    "p.triangle(x=\"Temperature\", y=\"Orange\", source=source_Q4, color='orange', size=8, legend_label=\"Orange\")\n",
    "p.legend.location = \"top_left\"\n",
    "show(p) \n",
    "\n",
    "# Step 5 The hotter it is the more Lemon and Orange sales.\n",
    "\n",
    "# Step 6\n",
    "temperatures = list(lemon.groupby('Temperature').groups)\n",
    "avg = lemon.groupby('Temperature')['Lemon'].mean()\n",
    "std = lemon.groupby('Temperature')['Lemon'].std()\n",
    "from bokeh.models import ColumnDataSource, CDSView, GroupFilter\n",
    "source_Q6 = ColumnDataSource(lemon)\n",
    "park = CDSView(source=source_Q6, filters=[GroupFilter(column_name='Location', group='Park')])\n",
    "beach = CDSView(source=source_Q6, filters=[GroupFilter(column_name='Location', group='Beach')])\n",
    "p1 = figure(title = \"Temperature vs Lemon Sales (Park and Beach)\")\n",
    "p1.triangle('Temperature', 'Lemon', source=source_Q6, color='red', size=8, view=park, legend_label='Sale in Park')\n",
    "p1.circle('Temperature', 'Lemon', source=source_Q6, color='blue', size=8, view=beach, legend_label='Sale in Beach')\n",
    "p1.vbar(x = temperatures, top = avg+std, width = 0.8, bottom = avg-std, fill_alpha = 0.2, legend_label = \"Lemon Revenue 1 stddev\")\n",
    "p1.legend.location = 'top_left'\n",
    "show(p1)\n",
    "\n",
    "# Step 7\n",
    "# The greater the temperature the more Lemon sales.\n",
    "# When it is colder, the park sells more Lemons and as it gets warmer the beach starts selling."
   ]
  }
 ],
 "metadata": {
  "kernelspec": {
   "display_name": "Python 3 (ipykernel)",
   "language": "python",
   "name": "python3"
  },
  "language_info": {
   "codemirror_mode": {
    "name": "ipython",
    "version": 3
   },
   "file_extension": ".py",
   "mimetype": "text/x-python",
   "name": "python",
   "nbconvert_exporter": "python",
   "pygments_lexer": "ipython3",
   "version": "3.11.5"
  }
 },
 "nbformat": 4,
 "nbformat_minor": 5
}
