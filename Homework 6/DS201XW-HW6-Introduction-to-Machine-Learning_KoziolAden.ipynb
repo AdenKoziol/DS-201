{
 "cells": [
  {
   "cell_type": "code",
   "execution_count": 7,
   "id": "24dcabac",
   "metadata": {},
   "outputs": [
    {
     "name": "stdout",
     "output_type": "stream",
     "text": [
      "It's an Apple.\n",
      "Feature importance for weight: 1.0\n",
      "Feature importance for skin type: 0.0\n",
      "Recommended app for Gender: M, Age 21 is Snapchat\n",
      "Recommended app for Gender: F, Age 18 is Pokemon Go\n"
     ]
    }
   ],
   "source": [
    "from sklearn import tree\n",
    "\n",
    "# Data Set 1\n",
    "# Define the features and labels\n",
    "features = [[140, 1], [130, 1], [150, 0], [170, 0]]  # Weight and skin (smooth=1, bumpy=0)\n",
    "labels = [0, 0, 1, 1]  # Apple=0, Orange=1\n",
    "\n",
    "# Create a Classifier\n",
    "clf = tree.DecisionTreeClassifier()\n",
    "\n",
    "# Train the Classifier\n",
    "clf = clf.fit(features, labels)\n",
    "\n",
    "# Predict the kind of fruit 140 weight, bumpy skin\n",
    "prediction = clf.predict([[140, 0]])\n",
    "if prediction == 0:\n",
    "    print(\"It's an Apple.\")\n",
    "else:\n",
    "    print(\"It's an Orange.\")\n",
    "    \n",
    "# More Important Feature\n",
    "importance_weight = clf.feature_importances_[0]\n",
    "importance_skin = clf.feature_importances_[1]\n",
    "print(\"Feature importance for weight:\", importance_weight)\n",
    "print(\"Feature importance for skin type:\", importance_skin)\n",
    "# Weight is the more important feature\n",
    "\n",
    "# Data Set 2\n",
    "# Define the features and labels\n",
    "features = [['F', 15], ['F', 25], ['M', 32], ['F', 40], ['M', 12], ['M', 14]]  # Gender and Age\n",
    "labels = ['Pokemon Go', 'WhatsApp', 'Snapchat', 'WhatsApp', 'Pokemon Go', 'Pokemon Go']  # App\n",
    "\n",
    "# Convert categorical features to numerical\n",
    "for i in range(len(features)):\n",
    "    features[i][0] = 0 if features[i][0] == 'F' else 1\n",
    "\n",
    "# Create a new Classifier\n",
    "clf2 = tree.DecisionTreeClassifier()\n",
    "\n",
    "# Train the new Classifier\n",
    "clf2 = clf2.fit(features, labels)\n",
    "\n",
    "# Predict the recommendation app for Gender: M, Age 21\n",
    "prediction_m_21 = clf2.predict([[1, 21]]) \n",
    "print(\"Recommended app for Gender: M, Age 21 is\", prediction_m_21[0])\n",
    "\n",
    "# Predict the recommendation app for Gender: F, Age 18\n",
    "prediction_f_18 = clf2.predict([[0, 18]]) \n",
    "print(\"Recommended app for Gender: F, Age 18 is\", prediction_f_18[0])\n"
   ]
  }
 ],
 "metadata": {
  "kernelspec": {
   "display_name": "Python 3 (ipykernel)",
   "language": "python",
   "name": "python3"
  },
  "language_info": {
   "codemirror_mode": {
    "name": "ipython",
    "version": 3
   },
   "file_extension": ".py",
   "mimetype": "text/x-python",
   "name": "python",
   "nbconvert_exporter": "python",
   "pygments_lexer": "ipython3",
   "version": "3.11.5"
  }
 },
 "nbformat": 4,
 "nbformat_minor": 5
}
