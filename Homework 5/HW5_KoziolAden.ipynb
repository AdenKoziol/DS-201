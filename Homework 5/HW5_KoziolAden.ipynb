{
 "cells": [
  {
   "cell_type": "code",
   "execution_count": 19,
   "id": "5188b81a",
   "metadata": {},
   "outputs": [],
   "source": [
    "import pandas as pd\n",
    "from bokeh.plotting import figure, output_file, show\n",
    "from bokeh.layouts import gridplot\n",
    "\n",
    "# Import Data\n",
    "df = pd.read_csv(\" https://raw.githubusercontent.com/asukul/DS201/master/datasets/Lemonade2016-2.csv\")\n",
    "\n",
    "# Create Bokeh Chart 1\n",
    "output_file(\"Koziol-DS201X-HW5-plot1.html\")\n",
    "df['Sales'] = df['Lemon'] + df['Orange']\n",
    "df['Revenue'] = (df['Sales'] * df['Price'])\n",
    "p1 = figure(title=\"Temperature vs. Sales with Revenue as Circle Size\", x_axis_label='Temperature', y_axis_label='Sales')\n",
    "p1.circle(df['Temperature'], df['Sales'], size=df['Revenue'] / 2, color=\"orange\", alpha=0.5)\n",
    "show(p1)\n",
    "\n",
    "# Create Bokeh Chart 2\n",
    "output_file(\"Koziol-DS201X-HW5-plot2.html\")\n",
    "p2 = figure(title=\"Revenue by Leaflets\", x_axis_label='Leaflets', y_axis_label='Revenue')\n",
    "p2.circle(df['Leaflets'], df['Revenue'], color=\"blue\", alpha=0.5)\n",
    "p3 = figure(title=\"Revenue vs. Sales\", x_axis_label='Sales', y_axis_label='Revenue')\n",
    "p3.circle(df['Sales'], df['Revenue'], color=\"green\", alpha=0.5)\n",
    "p4 = figure(title=\"Sales by Temperature\", x_axis_label='Temperature', y_axis_label='Sales')\n",
    "p4.circle(df['Temperature'], df['Sales'], color=\"red\", alpha=0.5)\n",
    "grid = gridplot([[p2, p3], [p4]])\n",
    "show(grid)"
   ]
  },
  {
   "cell_type": "code",
   "execution_count": null,
   "id": "d1443bb6",
   "metadata": {},
   "outputs": [],
   "source": []
  }
 ],
 "metadata": {
  "kernelspec": {
   "display_name": "Python 3 (ipykernel)",
   "language": "python",
   "name": "python3"
  },
  "language_info": {
   "codemirror_mode": {
    "name": "ipython",
    "version": 3
   },
   "file_extension": ".py",
   "mimetype": "text/x-python",
   "name": "python",
   "nbconvert_exporter": "python",
   "pygments_lexer": "ipython3",
   "version": "3.11.5"
  }
 },
 "nbformat": 4,
 "nbformat_minor": 5
}
